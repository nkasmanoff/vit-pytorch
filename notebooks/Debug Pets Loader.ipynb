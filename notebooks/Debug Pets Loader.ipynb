{
 "cells": [
  {
   "cell_type": "code",
   "execution_count": 1,
   "id": "solar-biography",
   "metadata": {},
   "outputs": [],
   "source": [
    "\n",
    "from pytorch_lightning import Trainer\n",
    "import matplotlib.pyplot as plt\n",
    "import torch\n",
    "import torch.nn as nn\n",
    "import torch.nn.functional as F\n",
    "import pytorch_lightning as pl\n",
    "import cv2\n",
    "\n",
    "\n",
    "import sys\n",
    "sys.path.append('../vit_pytorch/')\n",
    "sys.path.append('..')\n",
    "import resnet\n",
    "#from dataloaders import *\n",
    "\n",
    "import matplotlib.pyplot as plt\n",
    "import torch\n",
    "import torch.nn as nn\n",
    "import torch.nn.functional as F\n",
    "import pytorch_lightning as pl\n",
    "from pytorch_lightning import Trainer\n",
    "from argparse import ArgumentParser, Namespace\n",
    "import os\n",
    "import random\n",
    "import sys\n",
    "import numpy as np\n",
    "import pandas as pd\n",
    "from sklearn.metrics import accuracy_score, classification_report, confusion_matrix\n",
    "import seaborn as sns\n",
    "from dataloader import get_CIFAR_data\n",
    "from pets_loader import *\n",
    "%matplotlib inline"
   ]
  },
  {
   "cell_type": "code",
   "execution_count": 2,
   "id": "alive-entry",
   "metadata": {},
   "outputs": [
    {
     "name": "stdout",
     "output_type": "stream",
     "text": [
      "checking for corrupted images\n"
     ]
    },
    {
     "data": {
      "application/vnd.jupyter.widget-view+json": {
       "model_id": "fe263e375c1e406493d2448d9d00fabc",
       "version_major": 2,
       "version_minor": 0
      },
      "text/plain": [
       "  0%|          | 0/7390 [00:00<?, ?it/s]"
      ]
     },
     "metadata": {},
     "output_type": "display_data"
    },
    {
     "name": "stdout",
     "output_type": "stream",
     "text": [
      "[INFO] Corrupted Image: ../data/oxford_iiit_pet/images/Egyptian_Mau_191.jpg\n",
      "[INFO] Corrupted Image: ../data/oxford_iiit_pet/images/Egyptian_Mau_177.jpg\n",
      "[INFO] Corrupted Image: ../data/oxford_iiit_pet/images/Egyptian_Mau_145.jpg\n",
      "[INFO] Corrupted Image: ../data/oxford_iiit_pet/images/Egyptian_Mau_139.jpg\n",
      "[INFO] Corrupted Image: ../data/oxford_iiit_pet/images/Abyssinian_34.jpg\n",
      "[INFO] Corrupted Image: ../data/oxford_iiit_pet/images/Egyptian_Mau_167.jpg\n"
     ]
    }
   ],
   "source": [
    "train_loader, val_loader, test_loader = get_PETS_data()"
   ]
  },
  {
   "cell_type": "code",
   "execution_count": 8,
   "id": "current-thong",
   "metadata": {},
   "outputs": [],
   "source": [
    "all_labels = np.array([])\n",
    "for batch in train_loader:\n",
    "    all_labels = np.concatenate([all_labels,batch[1].flatten().numpy()])"
   ]
  },
  {
   "cell_type": "code",
   "execution_count": 10,
   "id": "multiple-somewhere",
   "metadata": {},
   "outputs": [
    {
     "data": {
      "text/plain": [
       "(array([479., 480., 360., 477., 360., 480., 480., 360., 479., 475.]),\n",
       " array([ 0. ,  3.6,  7.2, 10.8, 14.4, 18. , 21.6, 25.2, 28.8, 32.4, 36. ]),\n",
       " <BarContainer object of 10 artists>)"
      ]
     },
     "execution_count": 10,
     "metadata": {},
     "output_type": "execute_result"
    },
    {
     "data": {
      "image/png": "[encoded data removed]",
      "text/plain": [
       "<Figure size 432x288 with 1 Axes>"
      ]
     },
     "metadata": {
      "needs_background": "light"
     },
     "output_type": "display_data"
    }
   ],
   "source": [
    "plt.hist(all_labels)"
   ]
  },
  {
   "cell_type": "code",
   "execution_count": 4,
   "id": "experienced-offset",
   "metadata": {},
   "outputs": [
    {
     "name": "stderr",
     "output_type": "stream",
     "text": [
      "WARNING:matplotlib.image:Clipping input data to the valid range for imshow with RGB data ([0..1] for floats or [0..255] for integers).\n"
     ]
    },
    {
     "data": {
      "text/plain": [
       "<matplotlib.image.AxesImage at 0x1509e36a3f40>"
      ]
     },
     "execution_count": 4,
     "metadata": {},
     "output_type": "execute_result"
    },
    {
     "data": {
      "image/png": "[encoded data removed]",
      "text/plain": [
       "<Figure size 432x288 with 1 Axes>"
      ]
     },
     "metadata": {
      "needs_background": "light"
     },
     "output_type": "display_data"
    }
   ],
   "source": [
    "plt.imshow(batch[0][5].numpy().transpose((1,2,0)))"
   ]
  },
  {
   "cell_type": "code",
   "execution_count": 11,
   "id": "other-frank",
   "metadata": {},
   "outputs": [],
   "source": [
    "all_labels = np.array([])\n",
    "for batch in val_loader:\n",
    "    all_labels = np.concatenate([all_labels,batch[1].flatten().numpy()])"
   ]
  },
  {
   "cell_type": "code",
   "execution_count": 12,
   "id": "apparent-button",
   "metadata": {},
   "outputs": [
    {
     "data": {
      "text/plain": [
       "(array([160., 160., 120., 159., 120., 160., 160., 120., 160., 158.]),\n",
       " array([ 0. ,  3.6,  7.2, 10.8, 14.4, 18. , 21.6, 25.2, 28.8, 32.4, 36. ]),\n",
       " <BarContainer object of 10 artists>)"
      ]
     },
     "execution_count": 12,
     "metadata": {},
     "output_type": "execute_result"
    },
    {
     "data": {
      "image/png": "[encoded data removed]",
      "text/plain": [
       "<Figure size 432x288 with 1 Axes>"
      ]
     },
     "metadata": {
      "needs_background": "light"
     },
     "output_type": "display_data"
    }
   ],
   "source": [
    "plt.hist(all_labels)"
   ]
  },
  {
   "cell_type": "code",
   "execution_count": 6,
   "id": "extraordinary-staff",
   "metadata": {},
   "outputs": [],
   "source": [
    "for batch in val_loader:\n",
    "    break"
   ]
  },
  {
   "cell_type": "code",
   "execution_count": null,
   "id": "super-multiple",
   "metadata": {},
   "outputs": [],
   "source": [
    "plt.imshow(batch[0][2].numpy().transpose((1,2,0)))"
   ]
  },
  {
   "cell_type": "code",
   "execution_count": 13,
   "id": "wrapped-galaxy",
   "metadata": {},
   "outputs": [
    {
     "data": {
      "text/plain": [
       "72"
      ]
     },
     "execution_count": 13,
     "metadata": {},
     "output_type": "execute_result"
    }
   ],
   "source": [
    "43 + 29"
   ]
  },
  {
   "cell_type": "code",
   "execution_count": 14,
   "id": "existing-citation",
   "metadata": {},
   "outputs": [],
   "source": [
    "all_labels = np.array([])\n",
    "for batch in test_loader:\n",
    "    all_labels = np.concatenate([all_labels,batch[1].flatten().numpy()])"
   ]
  },
  {
   "cell_type": "code",
   "execution_count": 15,
   "id": "floppy-surprise",
   "metadata": {},
   "outputs": [
    {
     "data": {
      "text/plain": [
       "(array([160., 160., 120., 159., 120., 160., 160., 120., 160., 158.]),\n",
       " array([ 0. ,  3.6,  7.2, 10.8, 14.4, 18. , 21.6, 25.2, 28.8, 32.4, 36. ]),\n",
       " <BarContainer object of 10 artists>)"
      ]
     },
     "execution_count": 15,
     "metadata": {},
     "output_type": "execute_result"
    },
    {
     "data": {
      "image/png": "[encoded data removed]",
      "text/plain": [
       "<Figure size 432x288 with 1 Axes>"
      ]
     },
     "metadata": {
      "needs_background": "light"
     },
     "output_type": "display_data"
    }
   ],
   "source": [
    "plt.hist(all_labels)"
   ]
  },
  {
   "cell_type": "code",
   "execution_count": null,
   "id": "awful-saturday",
   "metadata": {},
   "outputs": [],
   "source": []
  }
 ],
 "metadata": {
  "kernelspec": {
   "display_name": "Python 3",
   "language": "python",
   "name": "python3"
  },
  "language_info": {
   "codemirror_mode": {
    "name": "ipython",
    "version": 3
   },
   "file_extension": ".py",
   "mimetype": "text/x-python",
   "name": "python",
   "nbconvert_exporter": "python",
   "pygments_lexer": "ipython3",
   "version": "3.8.5"
  }
 },
 "nbformat": 4,
 "nbformat_minor": 5
}
