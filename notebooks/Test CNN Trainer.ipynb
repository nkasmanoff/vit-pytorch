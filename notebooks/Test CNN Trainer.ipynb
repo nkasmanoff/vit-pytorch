{
 "cells": [
  {
   "cell_type": "markdown",
   "id": "hundred-hobby",
   "metadata": {},
   "source": [
    "Quickly debugging the ViT trainer code before doing some test runs "
   ]
  },
  {
   "cell_type": "code",
   "execution_count": 1,
   "id": "white-curtis",
   "metadata": {},
   "outputs": [],
   "source": [
    "\n",
    "from pytorch_lightning import Trainer\n",
    "import matplotlib.pyplot as plt\n",
    "import torch\n",
    "import torch.nn as nn\n",
    "import torch.nn.functional as F\n",
    "import pytorch_lightning as pl\n",
    "import cv2\n",
    "\n",
    "\n",
    "import sys\n",
    "sys.path.append('../vit_pytorch/')\n",
    "sys.path.append('..')\n",
    "import resnet\n",
    "#from dataloaders import *\n",
    "\n",
    "\n",
    "import matplotlib.pyplot as plt\n",
    "import torch\n",
    "import torch.nn as nn\n",
    "import torch.nn.functional as F\n",
    "import pytorch_lightning as pl\n",
    "from pytorch_lightning import Trainer\n",
    "from argparse import ArgumentParser, Namespace\n",
    "import os\n",
    "import random\n",
    "import sys\n",
    "import numpy as np\n",
    "import pandas as pd\n",
    "from sklearn.metrics import accuracy_score, classification_report, confusion_matrix\n",
    "import seaborn as sns\n",
    "from dataloader import get_CIFAR_data\n",
    "%matplotlib inline"
   ]
  },
  {
   "cell_type": "code",
   "execution_count": null,
   "id": "attended-validation",
   "metadata": {},
   "outputs": [],
   "source": []
  },
  {
   "cell_type": "code",
   "execution_count": 2,
   "id": "nasty-underwear",
   "metadata": {},
   "outputs": [],
   "source": [
    "\n",
    "class CNN_Trainer(pl.LightningModule):\n",
    "    def __init__(self, hparams=None):\n",
    "        super(CNN_Trainer,self).__init__()\n",
    "        self.__check_hparams(hparams)\n",
    "        self.hparams = hparams\n",
    "        self.prepare_data()\n",
    "\n",
    "        self.__model = resnet.ResNet18(num_classes=self.num_classes)\n",
    "\n",
    "\n",
    "    def forward(self,x):\n",
    "\n",
    "        y_pred = self.__model(x)# returns the predicted class for this dataset. \n",
    "\n",
    "        return y_pred\n",
    "\n",
    "\n",
    "    def _run_step(self, batch, batch_idx,step_name):\n",
    "\n",
    "        img, y_true  = batch\n",
    "        y_pred = self(img) \n",
    "\n",
    "        if batch_idx % 1500 == 0:\n",
    "            # log progress. save a few images from the batch, what they are, and what their prediction is. \n",
    "            self.__log_step(img,y_true,y_pred, step_name)\n",
    "\n",
    "\n",
    "\n",
    "        loss = F.cross_entropy(y_pred, y_true)\n",
    "\n",
    "        return loss , y_pred, y_true\n",
    "\n",
    "\n",
    "    def training_step(self, batch, batch_idx):\n",
    "\n",
    "        train_loss, _, _ = self._run_step( batch, batch_idx,step_name='train') \n",
    "        train_tensorboard_logs = {'train_loss': train_loss}\n",
    "        \n",
    "        return {'loss': train_loss, 'log': train_tensorboard_logs}\n",
    "\n",
    "\n",
    "    def validation_step(self, batch, batch_idx):\n",
    "\n",
    "        val_log_dict = {}\n",
    "        val_loss, y_pred, y_true = self._run_step(batch, batch_idx, step_name='valid')\n",
    "        y_pred = y_pred.argmax(dim=1).detach().cpu()\n",
    "        y_true = y_true.detach().cpu()\n",
    "        val_log_dict['val_loss'] = val_loss\n",
    "        val_acc = torch.from_numpy(np.array([accuracy_score(y_pred,y_true)]))\n",
    "        val_log_dict['val_acc'] = val_acc\n",
    "\n",
    "        return val_log_dict \n",
    "\n",
    "\n",
    "    def validation_epoch_end(self, outputs):   \n",
    "\n",
    "        val_tensorboard_logs = {}\n",
    "        avg_val_loss = torch.stack([x['val_loss'] for x in outputs]).mean()  \n",
    "        avg_val_acc = torch.stack([x['val_acc'] for x in outputs]).mean()\n",
    "        val_tensorboard_logs['avg_val_acc'] = avg_val_acc\n",
    "        val_tensorboard_logs['avg_val_loss'] = avg_val_loss\n",
    "\n",
    "        return {'val_loss': avg_val_loss, 'log': val_tensorboard_logs}\n",
    "\n",
    "    def test_step(self, batch, batch_idx):\n",
    "\n",
    "        test_log_dict = {}\n",
    "        test_loss, y_pred, y_true = self._run_step(batch, batch_idx, step_name='test')\n",
    "        y_pred = y_pred.argmax(dim=1).detach().cpu()\n",
    "        y_true = y_true.detach().cpu()\n",
    "        test_log_dict['test_loss'] = test_loss\n",
    "        test_acc = torch.from_numpy(np.array([accuracy_score(y_pred,y_true)]))\n",
    "        test_log_dict['test_acc'] = test_acc\n",
    "\n",
    "        return test_log_dict \n",
    "\n",
    "\n",
    "    def test_epoch_end(self, outputs):    \n",
    "\n",
    "        test_tensorboard_logs = {}\n",
    "        avg_test_loss = torch.stack([x['test_loss'] for x in outputs]).mean()  \n",
    "        avg_test_acc = torch.stack([x['test_acc'] for x in outputs]).mean()\n",
    "        test_tensorboard_logs['avg_test_acc'] = avg_test_acc\n",
    "        test_tensorboard_logs['avg_test_loss'] = avg_test_loss\n",
    "\n",
    "        return {'test_loss': avg_test_loss, 'log': test_tensorboard_logs}\n",
    "\n",
    "    def configure_optimizers(self):\n",
    "        optimizer =  torch.optim.Adam(self.parameters(), lr = self.learning_rate ,weight_decay = self.weight_decay)\n",
    "        scheduler = torch.optim.lr_scheduler.ReduceLROnPlateau(optimizer,patience = 4)\n",
    "        return [optimizer], [scheduler] \n",
    "    \n",
    "    def prepare_data(self):\n",
    "        # the dataloaders are run batch by batch where this is run fully and once before beginning training\n",
    "        self.train_loader, self.valid_loader, self.test_loader = get_CIFAR_data(batch_size=self.batch_size,\n",
    "                                                                                 dset = self.dataset, \n",
    "                                                                                 )\n",
    "\n",
    "    def train_dataloader(self):\n",
    "        return self.train_loader\n",
    "\n",
    "    def val_dataloader(self):\n",
    "        return self.valid_loader\n",
    "\n",
    "    def test_dataloader(self):\n",
    "        return self.test_loader\n",
    "\n",
    "    def __log_step(self,img, y_true, y_pred, step_name, limit=1):\n",
    "        ## Plot image\n",
    "        j = 0 # using the jth element from that batch \n",
    "\n",
    "        im = img[j].cpu().numpy().transpose(1,2,0)\n",
    "\n",
    "        fig, ax = plt.subplots()\n",
    "        ax.imshow(im) #grayscale\n",
    "        tag = f'{step_name}_image'\n",
    "        self.logger.experiment.add_figure(tag, fig, global_step=self.trainer.global_step, close=True, walltime=None)\n",
    "          \n",
    "\n",
    "\n",
    "    \n",
    "    def __check_hparams(self, hparams):\n",
    "        self.channels = hparams.channels if hasattr(hparams, 'channels') else 3\n",
    "        #self.image_size = hparams.image_size if hasattr(hparams, 'image_size') else 32\n",
    "        #self.patch_size = hparams.patch_size if hasattr(hparams, 'patch_size') else 8\n",
    "        #self.depth = hparams.depth if hasattr(hparams, 'depth') else 8\n",
    "        #self.heads = hparams.heads if hasattr(hparams, 'heads') else 8\n",
    "        #self.dim = hparams.dim if hasattr(hparams, 'dim') else 768\n",
    "        #self.mlp_dim = hparams.mlp_dim if hasattr(hparams, 'mlp_dim') else 512\n",
    "        #self.dropout = hparams.dropout if hasattr(hparams, 'dropout') else 0\n",
    "        self.num_classes = hparams.num_classes if hasattr(hparams, 'num_classes') else 100\n",
    "\n",
    "        self.batch_size = hparams.batch_size if hasattr(hparams, 'batch_size') else 128\n",
    "        self.learning_rate = hparams.learning_rate if hasattr(hparams, 'learning_rate') else 0.001\n",
    "        self.weight_decay = hparams.weight_decay if hasattr(hparams, 'weight_decay') else 0.001\n",
    "        self.seed = hparams.seed if hasattr(hparams, 'seed') else 32\n",
    "        self.dataset = hparams.dataset if hasattr(hparams, 'dataset') else 'cifar100'\n",
    "        self.architecture = hparams.dataset if hasattr(hparams, 'architecture') else 'ResNet18'\n",
    "\n",
    "\n",
    "\n",
    "    @staticmethod\n",
    "    def add_model_specific_args(parent_parser):\n",
    "        parser = HyperOptArgumentParser(parents=[parent_parser], add_help=False)\n",
    "\n",
    "        # architecture specific arguments\n",
    "        parser.add_argument('--channels', type=int, default=3) \n",
    "        #parser.add_argument('--image_size', type=int, default=32)  \n",
    "        #parser.add_argument('--patch_size', type=int, default=4)  # not really specified\n",
    "        #parser.add_argument('--depth', type=int, default=12)  # 12, 24, 32\n",
    "        #parser.add_argument('--heads', type=int, default=12)  # 12, 16, 16\n",
    "        #parser.add_argument('--dim', type=int, default=768)  # 768, 1024, 1280\n",
    "        #parser.add_argument('--mlp_dim', type=int, default=3072) # 3072, 4096, 5120\n",
    "        #parser.add_argument('--dropout', type=float, default=0)  # 0 or .1\n",
    "        parser.add_argument('--num_classes', type=int, default=100) \n",
    "\n",
    "        # setup arguments\n",
    "        parser.add_argument('--batch_size', type=int, default=128)  # 4096 \n",
    "        parser.add_argument('--learning_rate', type=int, default=1e-4) # .9, .999 (Adam)\n",
    "        parser.add_argument('--weight_decay', type=int, default=.001) # .1\n",
    "        parser.add_argument('--seed', type=int, default = 42) # shuffling samples in data loader \n",
    "        parser.add_argument('--dataset',type=str, default = 'cifar100') # which data set to train with. \n",
    "        parser.add_argument('--architecture',type=str, default = 'ResNet18') # which data set to train with. \n",
    "\n",
    "        return parser\n",
    "\n"
   ]
  },
  {
   "cell_type": "code",
   "execution_count": 3,
   "id": "imposed-enemy",
   "metadata": {},
   "outputs": [
    {
     "name": "stdout",
     "output_type": "stream",
     "text": [
      "Files already downloaded and verified\n"
     ]
    },
    {
     "name": "stderr",
     "output_type": "stream",
     "text": [
      "/scratch/nsk367/anaconda3/envs/vit/lib/python3.8/site-packages/torch/utils/data/dataloader.py:474: UserWarning: This DataLoader will create 4 worker processes in total. Our suggested max number of worker in current system is 1, which is smaller than what this DataLoader is going to create. Please be aware that excessive worker creation might get DataLoader running slow or even freeze, lower the worker number to avoid potential slowness/freeze if necessary.\n",
      "  warnings.warn(_create_warning_msg(\n"
     ]
    }
   ],
   "source": [
    "# Init our model\n",
    "model = CNN_Trainer()\n"
   ]
  },
  {
   "cell_type": "code",
   "execution_count": null,
   "id": "billion-driver",
   "metadata": {},
   "outputs": [],
   "source": [
    "batch[1]"
   ]
  },
  {
   "cell_type": "code",
   "execution_count": 4,
   "id": "demonstrated-dancing",
   "metadata": {
    "scrolled": false
   },
   "outputs": [
    {
     "name": "stderr",
     "output_type": "stream",
     "text": [
      "INFO:lightning:GPU available: True, used: True\n",
      "INFO:lightning:CUDA_VISIBLE_DEVICES: [0]\n"
     ]
    },
    {
     "name": "stdout",
     "output_type": "stream",
     "text": [
      "Files already downloaded and verified\n"
     ]
    },
    {
     "name": "stderr",
     "output_type": "stream",
     "text": [
      "INFO:lightning:Set SLURM handle signals.\n",
      "INFO:lightning:\n",
      "   | Name                                    | Type        | Params\n",
      "--------------------------------------------------------------------\n",
      "0  | _CNN_Trainer__model                     | ResNet      | 11 M  \n",
      "1  | _CNN_Trainer__model.conv1               | Conv2d      | 1 K   \n",
      "2  | _CNN_Trainer__model.bn1                 | BatchNorm2d | 128   \n",
      "3  | _CNN_Trainer__model.layer1              | Sequential  | 147 K \n",
      "4  | _CNN_Trainer__model.layer1.0            | BasicBlock  | 73 K  \n",
      "5  | _CNN_Trainer__model.layer1.0.conv1      | Conv2d      | 36 K  \n",
      "6  | _CNN_Trainer__model.layer1.0.bn1        | BatchNorm2d | 128   \n",
      "7  | _CNN_Trainer__model.layer1.0.conv2      | Conv2d      | 36 K  \n",
      "8  | _CNN_Trainer__model.layer1.0.bn2        | BatchNorm2d | 128   \n",
      "9  | _CNN_Trainer__model.layer1.0.shortcut   | Sequential  | 0     \n",
      "10 | _CNN_Trainer__model.layer1.1            | BasicBlock  | 73 K  \n",
      "11 | _CNN_Trainer__model.layer1.1.conv1      | Conv2d      | 36 K  \n",
      "12 | _CNN_Trainer__model.layer1.1.bn1        | BatchNorm2d | 128   \n",
      "13 | _CNN_Trainer__model.layer1.1.conv2      | Conv2d      | 36 K  \n",
      "14 | _CNN_Trainer__model.layer1.1.bn2        | BatchNorm2d | 128   \n",
      "15 | _CNN_Trainer__model.layer1.1.shortcut   | Sequential  | 0     \n",
      "16 | _CNN_Trainer__model.layer2              | Sequential  | 525 K \n",
      "17 | _CNN_Trainer__model.layer2.0            | BasicBlock  | 230 K \n",
      "18 | _CNN_Trainer__model.layer2.0.conv1      | Conv2d      | 73 K  \n",
      "19 | _CNN_Trainer__model.layer2.0.bn1        | BatchNorm2d | 256   \n",
      "20 | _CNN_Trainer__model.layer2.0.conv2      | Conv2d      | 147 K \n",
      "21 | _CNN_Trainer__model.layer2.0.bn2        | BatchNorm2d | 256   \n",
      "22 | _CNN_Trainer__model.layer2.0.shortcut   | Sequential  | 8 K   \n",
      "23 | _CNN_Trainer__model.layer2.0.shortcut.0 | Conv2d      | 8 K   \n",
      "24 | _CNN_Trainer__model.layer2.0.shortcut.1 | BatchNorm2d | 256   \n",
      "25 | _CNN_Trainer__model.layer2.1            | BasicBlock  | 295 K \n",
      "26 | _CNN_Trainer__model.layer2.1.conv1      | Conv2d      | 147 K \n",
      "27 | _CNN_Trainer__model.layer2.1.bn1        | BatchNorm2d | 256   \n",
      "28 | _CNN_Trainer__model.layer2.1.conv2      | Conv2d      | 147 K \n",
      "29 | _CNN_Trainer__model.layer2.1.bn2        | BatchNorm2d | 256   \n",
      "30 | _CNN_Trainer__model.layer2.1.shortcut   | Sequential  | 0     \n",
      "31 | _CNN_Trainer__model.layer3              | Sequential  | 2 M   \n",
      "32 | _CNN_Trainer__model.layer3.0            | BasicBlock  | 919 K \n",
      "33 | _CNN_Trainer__model.layer3.0.conv1      | Conv2d      | 294 K \n",
      "34 | _CNN_Trainer__model.layer3.0.bn1        | BatchNorm2d | 512   \n",
      "35 | _CNN_Trainer__model.layer3.0.conv2      | Conv2d      | 589 K \n",
      "36 | _CNN_Trainer__model.layer3.0.bn2        | BatchNorm2d | 512   \n",
      "37 | _CNN_Trainer__model.layer3.0.shortcut   | Sequential  | 33 K  \n",
      "38 | _CNN_Trainer__model.layer3.0.shortcut.0 | Conv2d      | 32 K  \n",
      "39 | _CNN_Trainer__model.layer3.0.shortcut.1 | BatchNorm2d | 512   \n",
      "40 | _CNN_Trainer__model.layer3.1            | BasicBlock  | 1 M   \n",
      "41 | _CNN_Trainer__model.layer3.1.conv1      | Conv2d      | 589 K \n",
      "42 | _CNN_Trainer__model.layer3.1.bn1        | BatchNorm2d | 512   \n",
      "43 | _CNN_Trainer__model.layer3.1.conv2      | Conv2d      | 589 K \n",
      "44 | _CNN_Trainer__model.layer3.1.bn2        | BatchNorm2d | 512   \n",
      "45 | _CNN_Trainer__model.layer3.1.shortcut   | Sequential  | 0     \n",
      "46 | _CNN_Trainer__model.layer4              | Sequential  | 8 M   \n",
      "47 | _CNN_Trainer__model.layer4.0            | BasicBlock  | 3 M   \n",
      "48 | _CNN_Trainer__model.layer4.0.conv1      | Conv2d      | 1 M   \n",
      "49 | _CNN_Trainer__model.layer4.0.bn1        | BatchNorm2d | 1 K   \n",
      "50 | _CNN_Trainer__model.layer4.0.conv2      | Conv2d      | 2 M   \n",
      "51 | _CNN_Trainer__model.layer4.0.bn2        | BatchNorm2d | 1 K   \n",
      "52 | _CNN_Trainer__model.layer4.0.shortcut   | Sequential  | 132 K \n",
      "53 | _CNN_Trainer__model.layer4.0.shortcut.0 | Conv2d      | 131 K \n",
      "54 | _CNN_Trainer__model.layer4.0.shortcut.1 | BatchNorm2d | 1 K   \n",
      "55 | _CNN_Trainer__model.layer4.1            | BasicBlock  | 4 M   \n",
      "56 | _CNN_Trainer__model.layer4.1.conv1      | Conv2d      | 2 M   \n",
      "57 | _CNN_Trainer__model.layer4.1.bn1        | BatchNorm2d | 1 K   \n",
      "58 | _CNN_Trainer__model.layer4.1.conv2      | Conv2d      | 2 M   \n",
      "59 | _CNN_Trainer__model.layer4.1.bn2        | BatchNorm2d | 1 K   \n",
      "60 | _CNN_Trainer__model.layer4.1.shortcut   | Sequential  | 0     \n",
      "61 | _CNN_Trainer__model.linear              | Linear      | 51 K  \n",
      "/scratch/nsk367/anaconda3/envs/vit/lib/python3.8/site-packages/pytorch_lightning/utilities/distributed.py:23: UserWarning: Checkpoint directory /scratch/nsk367/SP21/vit-pytorch/notebooks/lightning_logs/version_6359000/checkpoints exists and is not empty with save_top_k != 0.All files in this directory will be deleted when a checkpoint is saved!\n",
      "  warnings.warn(*args, **kwargs)\n"
     ]
    },
    {
     "data": {
      "application/vnd.jupyter.widget-view+json": {
       "model_id": "89179ad5ad074715bdbed691739b34a5",
       "version_major": 2,
       "version_minor": 0
      },
      "text/plain": [
       "Validation sanity check: 0it [00:00, ?it/s]"
      ]
     },
     "metadata": {},
     "output_type": "display_data"
    },
    {
     "name": "stderr",
     "output_type": "stream",
     "text": [
      "Traceback (most recent call last):\n",
      "  File \"/scratch/nsk367/anaconda3/envs/vit/lib/python3.8/multiprocessing/queues.py\", line 245, in _feed\n",
      "    send_bytes(obj)\n",
      "  File \"/scratch/nsk367/anaconda3/envs/vit/lib/python3.8/multiprocessing/connection.py\", line 200, in send_bytes\n",
      "    self._send_bytes(m[offset:offset + size])\n",
      "  File \"/scratch/nsk367/anaconda3/envs/vit/lib/python3.8/multiprocessing/connection.py\", line 411, in _send_bytes\n",
      "    self._send(header + buf)\n",
      "  File \"/scratch/nsk367/anaconda3/envs/vit/lib/python3.8/multiprocessing/connection.py\", line 368, in _send\n",
      "    n = write(self._handle, buf)\n",
      "BrokenPipeError: [Errno 32] Broken pipe\n"
     ]
    },
    {
     "data": {
      "application/vnd.jupyter.widget-view+json": {
       "model_id": "8fce8e9c3fbf45a4bb66cb3997e15617",
       "version_major": 2,
       "version_minor": 0
      },
      "text/plain": [
       "Training: 0it [00:00, ?it/s]"
      ]
     },
     "metadata": {},
     "output_type": "display_data"
    },
    {
     "name": "stderr",
     "output_type": "stream",
     "text": [
      "/scratch/nsk367/anaconda3/envs/vit/lib/python3.8/site-packages/torch/utils/data/dataloader.py:474: UserWarning: This DataLoader will create 4 worker processes in total. Our suggested max number of worker in current system is 1, which is smaller than what this DataLoader is going to create. Please be aware that excessive worker creation might get DataLoader running slow or even freeze, lower the worker number to avoid potential slowness/freeze if necessary.\n",
      "  warnings.warn(_create_warning_msg(\n"
     ]
    },
    {
     "data": {
      "application/vnd.jupyter.widget-view+json": {
       "model_id": "",
       "version_major": 2,
       "version_minor": 0
      },
      "text/plain": [
       "Validating: 0it [00:00, ?it/s]"
      ]
     },
     "metadata": {},
     "output_type": "display_data"
    },
    {
     "name": "stderr",
     "output_type": "stream",
     "text": [
      "/scratch/nsk367/anaconda3/envs/vit/lib/python3.8/site-packages/torch/utils/data/dataloader.py:474: UserWarning: This DataLoader will create 4 worker processes in total. Our suggested max number of worker in current system is 1, which is smaller than what this DataLoader is going to create. Please be aware that excessive worker creation might get DataLoader running slow or even freeze, lower the worker number to avoid potential slowness/freeze if necessary.\n",
      "  warnings.warn(_create_warning_msg(\n"
     ]
    },
    {
     "data": {
      "application/vnd.jupyter.widget-view+json": {
       "model_id": "",
       "version_major": 2,
       "version_minor": 0
      },
      "text/plain": [
       "Validating: 0it [00:00, ?it/s]"
      ]
     },
     "metadata": {},
     "output_type": "display_data"
    },
    {
     "name": "stderr",
     "output_type": "stream",
     "text": [
      "/scratch/nsk367/anaconda3/envs/vit/lib/python3.8/site-packages/torch/utils/data/dataloader.py:474: UserWarning: This DataLoader will create 4 worker processes in total. Our suggested max number of worker in current system is 1, which is smaller than what this DataLoader is going to create. Please be aware that excessive worker creation might get DataLoader running slow or even freeze, lower the worker number to avoid potential slowness/freeze if necessary.\n",
      "  warnings.warn(_create_warning_msg(\n"
     ]
    },
    {
     "data": {
      "application/vnd.jupyter.widget-view+json": {
       "model_id": "",
       "version_major": 2,
       "version_minor": 0
      },
      "text/plain": [
       "Validating: 0it [00:00, ?it/s]"
      ]
     },
     "metadata": {},
     "output_type": "display_data"
    },
    {
     "name": "stderr",
     "output_type": "stream",
     "text": [
      "/scratch/nsk367/anaconda3/envs/vit/lib/python3.8/site-packages/torch/utils/data/dataloader.py:474: UserWarning: This DataLoader will create 4 worker processes in total. Our suggested max number of worker in current system is 1, which is smaller than what this DataLoader is going to create. Please be aware that excessive worker creation might get DataLoader running slow or even freeze, lower the worker number to avoid potential slowness/freeze if necessary.\n",
      "  warnings.warn(_create_warning_msg(\n"
     ]
    },
    {
     "data": {
      "application/vnd.jupyter.widget-view+json": {
       "model_id": "",
       "version_major": 2,
       "version_minor": 0
      },
      "text/plain": [
       "Validating: 0it [00:00, ?it/s]"
      ]
     },
     "metadata": {},
     "output_type": "display_data"
    },
    {
     "name": "stderr",
     "output_type": "stream",
     "text": [
      "/scratch/nsk367/anaconda3/envs/vit/lib/python3.8/site-packages/torch/utils/data/dataloader.py:474: UserWarning: This DataLoader will create 4 worker processes in total. Our suggested max number of worker in current system is 1, which is smaller than what this DataLoader is going to create. Please be aware that excessive worker creation might get DataLoader running slow or even freeze, lower the worker number to avoid potential slowness/freeze if necessary.\n",
      "  warnings.warn(_create_warning_msg(\n"
     ]
    },
    {
     "data": {
      "application/vnd.jupyter.widget-view+json": {
       "model_id": "",
       "version_major": 2,
       "version_minor": 0
      },
      "text/plain": [
       "Validating: 0it [00:00, ?it/s]"
      ]
     },
     "metadata": {},
     "output_type": "display_data"
    },
    {
     "name": "stderr",
     "output_type": "stream",
     "text": [
      "/scratch/nsk367/anaconda3/envs/vit/lib/python3.8/site-packages/torch/utils/data/dataloader.py:474: UserWarning: This DataLoader will create 4 worker processes in total. Our suggested max number of worker in current system is 1, which is smaller than what this DataLoader is going to create. Please be aware that excessive worker creation might get DataLoader running slow or even freeze, lower the worker number to avoid potential slowness/freeze if necessary.\n",
      "  warnings.warn(_create_warning_msg(\n"
     ]
    },
    {
     "data": {
      "application/vnd.jupyter.widget-view+json": {
       "model_id": "",
       "version_major": 2,
       "version_minor": 0
      },
      "text/plain": [
       "Validating: 0it [00:00, ?it/s]"
      ]
     },
     "metadata": {},
     "output_type": "display_data"
    },
    {
     "name": "stderr",
     "output_type": "stream",
     "text": [
      "/scratch/nsk367/anaconda3/envs/vit/lib/python3.8/site-packages/torch/utils/data/dataloader.py:474: UserWarning: This DataLoader will create 4 worker processes in total. Our suggested max number of worker in current system is 1, which is smaller than what this DataLoader is going to create. Please be aware that excessive worker creation might get DataLoader running slow or even freeze, lower the worker number to avoid potential slowness/freeze if necessary.\n",
      "  warnings.warn(_create_warning_msg(\n"
     ]
    },
    {
     "data": {
      "application/vnd.jupyter.widget-view+json": {
       "model_id": "",
       "version_major": 2,
       "version_minor": 0
      },
      "text/plain": [
       "Validating: 0it [00:00, ?it/s]"
      ]
     },
     "metadata": {},
     "output_type": "display_data"
    },
    {
     "name": "stderr",
     "output_type": "stream",
     "text": [
      "/scratch/nsk367/anaconda3/envs/vit/lib/python3.8/site-packages/torch/utils/data/dataloader.py:474: UserWarning: This DataLoader will create 4 worker processes in total. Our suggested max number of worker in current system is 1, which is smaller than what this DataLoader is going to create. Please be aware that excessive worker creation might get DataLoader running slow or even freeze, lower the worker number to avoid potential slowness/freeze if necessary.\n",
      "  warnings.warn(_create_warning_msg(\n"
     ]
    },
    {
     "data": {
      "application/vnd.jupyter.widget-view+json": {
       "model_id": "",
       "version_major": 2,
       "version_minor": 0
      },
      "text/plain": [
       "Validating: 0it [00:00, ?it/s]"
      ]
     },
     "metadata": {},
     "output_type": "display_data"
    },
    {
     "name": "stderr",
     "output_type": "stream",
     "text": [
      "/scratch/nsk367/anaconda3/envs/vit/lib/python3.8/site-packages/torch/utils/data/dataloader.py:474: UserWarning: This DataLoader will create 4 worker processes in total. Our suggested max number of worker in current system is 1, which is smaller than what this DataLoader is going to create. Please be aware that excessive worker creation might get DataLoader running slow or even freeze, lower the worker number to avoid potential slowness/freeze if necessary.\n",
      "  warnings.warn(_create_warning_msg(\n"
     ]
    },
    {
     "data": {
      "application/vnd.jupyter.widget-view+json": {
       "model_id": "",
       "version_major": 2,
       "version_minor": 0
      },
      "text/plain": [
       "Validating: 0it [00:00, ?it/s]"
      ]
     },
     "metadata": {},
     "output_type": "display_data"
    },
    {
     "name": "stderr",
     "output_type": "stream",
     "text": [
      "/scratch/nsk367/anaconda3/envs/vit/lib/python3.8/site-packages/torch/utils/data/dataloader.py:474: UserWarning: This DataLoader will create 4 worker processes in total. Our suggested max number of worker in current system is 1, which is smaller than what this DataLoader is going to create. Please be aware that excessive worker creation might get DataLoader running slow or even freeze, lower the worker number to avoid potential slowness/freeze if necessary.\n",
      "  warnings.warn(_create_warning_msg(\n"
     ]
    },
    {
     "data": {
      "application/vnd.jupyter.widget-view+json": {
       "model_id": "",
       "version_major": 2,
       "version_minor": 0
      },
      "text/plain": [
       "Validating: 0it [00:00, ?it/s]"
      ]
     },
     "metadata": {},
     "output_type": "display_data"
    },
    {
     "name": "stderr",
     "output_type": "stream",
     "text": [
      "/scratch/nsk367/anaconda3/envs/vit/lib/python3.8/site-packages/torch/utils/data/dataloader.py:474: UserWarning: This DataLoader will create 4 worker processes in total. Our suggested max number of worker in current system is 1, which is smaller than what this DataLoader is going to create. Please be aware that excessive worker creation might get DataLoader running slow or even freeze, lower the worker number to avoid potential slowness/freeze if necessary.\n",
      "  warnings.warn(_create_warning_msg(\n"
     ]
    },
    {
     "data": {
      "application/vnd.jupyter.widget-view+json": {
       "model_id": "",
       "version_major": 2,
       "version_minor": 0
      },
      "text/plain": [
       "Validating: 0it [00:00, ?it/s]"
      ]
     },
     "metadata": {},
     "output_type": "display_data"
    },
    {
     "name": "stderr",
     "output_type": "stream",
     "text": [
      "/scratch/nsk367/anaconda3/envs/vit/lib/python3.8/site-packages/torch/utils/data/dataloader.py:474: UserWarning: This DataLoader will create 4 worker processes in total. Our suggested max number of worker in current system is 1, which is smaller than what this DataLoader is going to create. Please be aware that excessive worker creation might get DataLoader running slow or even freeze, lower the worker number to avoid potential slowness/freeze if necessary.\n",
      "  warnings.warn(_create_warning_msg(\n"
     ]
    },
    {
     "data": {
      "application/vnd.jupyter.widget-view+json": {
       "model_id": "",
       "version_major": 2,
       "version_minor": 0
      },
      "text/plain": [
       "Validating: 0it [00:00, ?it/s]"
      ]
     },
     "metadata": {},
     "output_type": "display_data"
    },
    {
     "name": "stderr",
     "output_type": "stream",
     "text": [
      "/scratch/nsk367/anaconda3/envs/vit/lib/python3.8/site-packages/torch/utils/data/dataloader.py:474: UserWarning: This DataLoader will create 4 worker processes in total. Our suggested max number of worker in current system is 1, which is smaller than what this DataLoader is going to create. Please be aware that excessive worker creation might get DataLoader running slow or even freeze, lower the worker number to avoid potential slowness/freeze if necessary.\n",
      "  warnings.warn(_create_warning_msg(\n"
     ]
    },
    {
     "data": {
      "application/vnd.jupyter.widget-view+json": {
       "model_id": "",
       "version_major": 2,
       "version_minor": 0
      },
      "text/plain": [
       "Validating: 0it [00:00, ?it/s]"
      ]
     },
     "metadata": {},
     "output_type": "display_data"
    },
    {
     "name": "stderr",
     "output_type": "stream",
     "text": [
      "/scratch/nsk367/anaconda3/envs/vit/lib/python3.8/site-packages/torch/utils/data/dataloader.py:474: UserWarning: This DataLoader will create 4 worker processes in total. Our suggested max number of worker in current system is 1, which is smaller than what this DataLoader is going to create. Please be aware that excessive worker creation might get DataLoader running slow or even freeze, lower the worker number to avoid potential slowness/freeze if necessary.\n",
      "  warnings.warn(_create_warning_msg(\n"
     ]
    },
    {
     "data": {
      "application/vnd.jupyter.widget-view+json": {
       "model_id": "",
       "version_major": 2,
       "version_minor": 0
      },
      "text/plain": [
       "Validating: 0it [00:00, ?it/s]"
      ]
     },
     "metadata": {},
     "output_type": "display_data"
    },
    {
     "name": "stderr",
     "output_type": "stream",
     "text": [
      "/scratch/nsk367/anaconda3/envs/vit/lib/python3.8/site-packages/torch/utils/data/dataloader.py:474: UserWarning: This DataLoader will create 4 worker processes in total. Our suggested max number of worker in current system is 1, which is smaller than what this DataLoader is going to create. Please be aware that excessive worker creation might get DataLoader running slow or even freeze, lower the worker number to avoid potential slowness/freeze if necessary.\n",
      "  warnings.warn(_create_warning_msg(\n"
     ]
    },
    {
     "data": {
      "application/vnd.jupyter.widget-view+json": {
       "model_id": "",
       "version_major": 2,
       "version_minor": 0
      },
      "text/plain": [
       "Validating: 0it [00:00, ?it/s]"
      ]
     },
     "metadata": {},
     "output_type": "display_data"
    },
    {
     "name": "stderr",
     "output_type": "stream",
     "text": [
      "/scratch/nsk367/anaconda3/envs/vit/lib/python3.8/site-packages/torch/utils/data/dataloader.py:474: UserWarning: This DataLoader will create 4 worker processes in total. Our suggested max number of worker in current system is 1, which is smaller than what this DataLoader is going to create. Please be aware that excessive worker creation might get DataLoader running slow or even freeze, lower the worker number to avoid potential slowness/freeze if necessary.\n",
      "  warnings.warn(_create_warning_msg(\n"
     ]
    },
    {
     "data": {
      "application/vnd.jupyter.widget-view+json": {
       "model_id": "",
       "version_major": 2,
       "version_minor": 0
      },
      "text/plain": [
       "Validating: 0it [00:00, ?it/s]"
      ]
     },
     "metadata": {},
     "output_type": "display_data"
    },
    {
     "name": "stderr",
     "output_type": "stream",
     "text": [
      "/scratch/nsk367/anaconda3/envs/vit/lib/python3.8/site-packages/torch/utils/data/dataloader.py:474: UserWarning: This DataLoader will create 4 worker processes in total. Our suggested max number of worker in current system is 1, which is smaller than what this DataLoader is going to create. Please be aware that excessive worker creation might get DataLoader running slow or even freeze, lower the worker number to avoid potential slowness/freeze if necessary.\n",
      "  warnings.warn(_create_warning_msg(\n"
     ]
    },
    {
     "data": {
      "application/vnd.jupyter.widget-view+json": {
       "model_id": "",
       "version_major": 2,
       "version_minor": 0
      },
      "text/plain": [
       "Validating: 0it [00:00, ?it/s]"
      ]
     },
     "metadata": {},
     "output_type": "display_data"
    },
    {
     "name": "stderr",
     "output_type": "stream",
     "text": [
      "/scratch/nsk367/anaconda3/envs/vit/lib/python3.8/site-packages/torch/utils/data/dataloader.py:474: UserWarning: This DataLoader will create 4 worker processes in total. Our suggested max number of worker in current system is 1, which is smaller than what this DataLoader is going to create. Please be aware that excessive worker creation might get DataLoader running slow or even freeze, lower the worker number to avoid potential slowness/freeze if necessary.\n",
      "  warnings.warn(_create_warning_msg(\n"
     ]
    },
    {
     "data": {
      "application/vnd.jupyter.widget-view+json": {
       "model_id": "",
       "version_major": 2,
       "version_minor": 0
      },
      "text/plain": [
       "Validating: 0it [00:00, ?it/s]"
      ]
     },
     "metadata": {},
     "output_type": "display_data"
    },
    {
     "name": "stderr",
     "output_type": "stream",
     "text": [
      "/scratch/nsk367/anaconda3/envs/vit/lib/python3.8/site-packages/torch/utils/data/dataloader.py:474: UserWarning: This DataLoader will create 4 worker processes in total. Our suggested max number of worker in current system is 1, which is smaller than what this DataLoader is going to create. Please be aware that excessive worker creation might get DataLoader running slow or even freeze, lower the worker number to avoid potential slowness/freeze if necessary.\n",
      "  warnings.warn(_create_warning_msg(\n"
     ]
    },
    {
     "data": {
      "application/vnd.jupyter.widget-view+json": {
       "model_id": "",
       "version_major": 2,
       "version_minor": 0
      },
      "text/plain": [
       "Validating: 0it [00:00, ?it/s]"
      ]
     },
     "metadata": {},
     "output_type": "display_data"
    },
    {
     "name": "stderr",
     "output_type": "stream",
     "text": [
      "/scratch/nsk367/anaconda3/envs/vit/lib/python3.8/site-packages/torch/utils/data/dataloader.py:474: UserWarning: This DataLoader will create 4 worker processes in total. Our suggested max number of worker in current system is 1, which is smaller than what this DataLoader is going to create. Please be aware that excessive worker creation might get DataLoader running slow or even freeze, lower the worker number to avoid potential slowness/freeze if necessary.\n",
      "  warnings.warn(_create_warning_msg(\n"
     ]
    },
    {
     "data": {
      "application/vnd.jupyter.widget-view+json": {
       "model_id": "",
       "version_major": 2,
       "version_minor": 0
      },
      "text/plain": [
       "Validating: 0it [00:00, ?it/s]"
      ]
     },
     "metadata": {},
     "output_type": "display_data"
    },
    {
     "name": "stderr",
     "output_type": "stream",
     "text": [
      "/scratch/nsk367/anaconda3/envs/vit/lib/python3.8/site-packages/torch/utils/data/dataloader.py:474: UserWarning: This DataLoader will create 4 worker processes in total. Our suggested max number of worker in current system is 1, which is smaller than what this DataLoader is going to create. Please be aware that excessive worker creation might get DataLoader running slow or even freeze, lower the worker number to avoid potential slowness/freeze if necessary.\n",
      "  warnings.warn(_create_warning_msg(\n"
     ]
    },
    {
     "data": {
      "application/vnd.jupyter.widget-view+json": {
       "model_id": "",
       "version_major": 2,
       "version_minor": 0
      },
      "text/plain": [
       "Validating: 0it [00:00, ?it/s]"
      ]
     },
     "metadata": {},
     "output_type": "display_data"
    },
    {
     "name": "stderr",
     "output_type": "stream",
     "text": [
      "/scratch/nsk367/anaconda3/envs/vit/lib/python3.8/site-packages/torch/utils/data/dataloader.py:474: UserWarning: This DataLoader will create 4 worker processes in total. Our suggested max number of worker in current system is 1, which is smaller than what this DataLoader is going to create. Please be aware that excessive worker creation might get DataLoader running slow or even freeze, lower the worker number to avoid potential slowness/freeze if necessary.\n",
      "  warnings.warn(_create_warning_msg(\n"
     ]
    },
    {
     "data": {
      "application/vnd.jupyter.widget-view+json": {
       "model_id": "",
       "version_major": 2,
       "version_minor": 0
      },
      "text/plain": [
       "Validating: 0it [00:00, ?it/s]"
      ]
     },
     "metadata": {},
     "output_type": "display_data"
    },
    {
     "name": "stderr",
     "output_type": "stream",
     "text": [
      "/scratch/nsk367/anaconda3/envs/vit/lib/python3.8/site-packages/torch/utils/data/dataloader.py:474: UserWarning: This DataLoader will create 4 worker processes in total. Our suggested max number of worker in current system is 1, which is smaller than what this DataLoader is going to create. Please be aware that excessive worker creation might get DataLoader running slow or even freeze, lower the worker number to avoid potential slowness/freeze if necessary.\n",
      "  warnings.warn(_create_warning_msg(\n"
     ]
    },
    {
     "data": {
      "application/vnd.jupyter.widget-view+json": {
       "model_id": "",
       "version_major": 2,
       "version_minor": 0
      },
      "text/plain": [
       "Validating: 0it [00:00, ?it/s]"
      ]
     },
     "metadata": {},
     "output_type": "display_data"
    },
    {
     "name": "stderr",
     "output_type": "stream",
     "text": [
      "/scratch/nsk367/anaconda3/envs/vit/lib/python3.8/site-packages/torch/utils/data/dataloader.py:474: UserWarning: This DataLoader will create 4 worker processes in total. Our suggested max number of worker in current system is 1, which is smaller than what this DataLoader is going to create. Please be aware that excessive worker creation might get DataLoader running slow or even freeze, lower the worker number to avoid potential slowness/freeze if necessary.\n",
      "  warnings.warn(_create_warning_msg(\n"
     ]
    },
    {
     "data": {
      "application/vnd.jupyter.widget-view+json": {
       "model_id": "",
       "version_major": 2,
       "version_minor": 0
      },
      "text/plain": [
       "Validating: 0it [00:00, ?it/s]"
      ]
     },
     "metadata": {},
     "output_type": "display_data"
    },
    {
     "name": "stderr",
     "output_type": "stream",
     "text": [
      "/scratch/nsk367/anaconda3/envs/vit/lib/python3.8/site-packages/torch/utils/data/dataloader.py:474: UserWarning: This DataLoader will create 4 worker processes in total. Our suggested max number of worker in current system is 1, which is smaller than what this DataLoader is going to create. Please be aware that excessive worker creation might get DataLoader running slow or even freeze, lower the worker number to avoid potential slowness/freeze if necessary.\n",
      "  warnings.warn(_create_warning_msg(\n"
     ]
    },
    {
     "data": {
      "application/vnd.jupyter.widget-view+json": {
       "model_id": "",
       "version_major": 2,
       "version_minor": 0
      },
      "text/plain": [
       "Validating: 0it [00:00, ?it/s]"
      ]
     },
     "metadata": {},
     "output_type": "display_data"
    },
    {
     "name": "stderr",
     "output_type": "stream",
     "text": [
      "/scratch/nsk367/anaconda3/envs/vit/lib/python3.8/site-packages/torch/utils/data/dataloader.py:474: UserWarning: This DataLoader will create 4 worker processes in total. Our suggested max number of worker in current system is 1, which is smaller than what this DataLoader is going to create. Please be aware that excessive worker creation might get DataLoader running slow or even freeze, lower the worker number to avoid potential slowness/freeze if necessary.\n",
      "  warnings.warn(_create_warning_msg(\n"
     ]
    },
    {
     "data": {
      "application/vnd.jupyter.widget-view+json": {
       "model_id": "",
       "version_major": 2,
       "version_minor": 0
      },
      "text/plain": [
       "Validating: 0it [00:00, ?it/s]"
      ]
     },
     "metadata": {},
     "output_type": "display_data"
    },
    {
     "name": "stderr",
     "output_type": "stream",
     "text": [
      "/scratch/nsk367/anaconda3/envs/vit/lib/python3.8/site-packages/torch/utils/data/dataloader.py:474: UserWarning: This DataLoader will create 4 worker processes in total. Our suggested max number of worker in current system is 1, which is smaller than what this DataLoader is going to create. Please be aware that excessive worker creation might get DataLoader running slow or even freeze, lower the worker number to avoid potential slowness/freeze if necessary.\n",
      "  warnings.warn(_create_warning_msg(\n"
     ]
    },
    {
     "data": {
      "application/vnd.jupyter.widget-view+json": {
       "model_id": "",
       "version_major": 2,
       "version_minor": 0
      },
      "text/plain": [
       "Validating: 0it [00:00, ?it/s]"
      ]
     },
     "metadata": {},
     "output_type": "display_data"
    },
    {
     "name": "stderr",
     "output_type": "stream",
     "text": [
      "/scratch/nsk367/anaconda3/envs/vit/lib/python3.8/site-packages/torch/utils/data/dataloader.py:474: UserWarning: This DataLoader will create 4 worker processes in total. Our suggested max number of worker in current system is 1, which is smaller than what this DataLoader is going to create. Please be aware that excessive worker creation might get DataLoader running slow or even freeze, lower the worker number to avoid potential slowness/freeze if necessary.\n",
      "  warnings.warn(_create_warning_msg(\n"
     ]
    },
    {
     "data": {
      "application/vnd.jupyter.widget-view+json": {
       "model_id": "",
       "version_major": 2,
       "version_minor": 0
      },
      "text/plain": [
       "Validating: 0it [00:00, ?it/s]"
      ]
     },
     "metadata": {},
     "output_type": "display_data"
    },
    {
     "name": "stderr",
     "output_type": "stream",
     "text": [
      "/scratch/nsk367/anaconda3/envs/vit/lib/python3.8/site-packages/torch/utils/data/dataloader.py:474: UserWarning: This DataLoader will create 4 worker processes in total. Our suggested max number of worker in current system is 1, which is smaller than what this DataLoader is going to create. Please be aware that excessive worker creation might get DataLoader running slow or even freeze, lower the worker number to avoid potential slowness/freeze if necessary.\n",
      "  warnings.warn(_create_warning_msg(\n"
     ]
    },
    {
     "data": {
      "application/vnd.jupyter.widget-view+json": {
       "model_id": "",
       "version_major": 2,
       "version_minor": 0
      },
      "text/plain": [
       "Validating: 0it [00:00, ?it/s]"
      ]
     },
     "metadata": {},
     "output_type": "display_data"
    },
    {
     "name": "stderr",
     "output_type": "stream",
     "text": [
      "/scratch/nsk367/anaconda3/envs/vit/lib/python3.8/site-packages/torch/utils/data/dataloader.py:474: UserWarning: This DataLoader will create 4 worker processes in total. Our suggested max number of worker in current system is 1, which is smaller than what this DataLoader is going to create. Please be aware that excessive worker creation might get DataLoader running slow or even freeze, lower the worker number to avoid potential slowness/freeze if necessary.\n",
      "  warnings.warn(_create_warning_msg(\n"
     ]
    },
    {
     "data": {
      "application/vnd.jupyter.widget-view+json": {
       "model_id": "",
       "version_major": 2,
       "version_minor": 0
      },
      "text/plain": [
       "Validating: 0it [00:00, ?it/s]"
      ]
     },
     "metadata": {},
     "output_type": "display_data"
    },
    {
     "data": {
      "text/plain": [
       "1"
      ]
     },
     "execution_count": 4,
     "metadata": {},
     "output_type": "execute_result"
    }
   ],
   "source": [
    "\n",
    "# Initialize a trainer\n",
    "trainer = pl.Trainer(gpus=1, max_epochs=30, progress_bar_refresh_rate=20)\n",
    "\n",
    "# Train the model \n",
    "trainer.fit(model)"
   ]
  },
  {
   "cell_type": "code",
   "execution_count": 6,
   "id": "earlier-archive",
   "metadata": {},
   "outputs": [
    {
     "ename": "AttributeError",
     "evalue": "'CNN_Trainer' object has no attribute '__model'",
     "output_type": "error",
     "traceback": [
      "\u001b[0;31m---------------------------------------------------------------------------\u001b[0m",
      "\u001b[0;31mAttributeError\u001b[0m                            Traceback (most recent call last)",
      "\u001b[0;32m<ipython-input-6-1a37d586d898>\u001b[0m in \u001b[0;36m<module>\u001b[0;34m\u001b[0m\n\u001b[0;32m----> 1\u001b[0;31m \u001b[0mmodel\u001b[0m\u001b[0;34m.\u001b[0m\u001b[0m__model\u001b[0m\u001b[0;34m\u001b[0m\u001b[0;34m\u001b[0m\u001b[0m\n\u001b[0m",
      "\u001b[0;32m/scratch/nsk367/anaconda3/envs/vit/lib/python3.8/site-packages/torch/nn/modules/module.py\u001b[0m in \u001b[0;36m__getattr__\u001b[0;34m(self, name)\u001b[0m\n\u001b[1;32m    945\u001b[0m             \u001b[0;32mif\u001b[0m \u001b[0mname\u001b[0m \u001b[0;32min\u001b[0m \u001b[0mmodules\u001b[0m\u001b[0;34m:\u001b[0m\u001b[0;34m\u001b[0m\u001b[0;34m\u001b[0m\u001b[0m\n\u001b[1;32m    946\u001b[0m                 \u001b[0;32mreturn\u001b[0m \u001b[0mmodules\u001b[0m\u001b[0;34m[\u001b[0m\u001b[0mname\u001b[0m\u001b[0;34m]\u001b[0m\u001b[0;34m\u001b[0m\u001b[0;34m\u001b[0m\u001b[0m\n\u001b[0;32m--> 947\u001b[0;31m         raise AttributeError(\"'{}' object has no attribute '{}'\".format(\n\u001b[0m\u001b[1;32m    948\u001b[0m             type(self).__name__, name))\n\u001b[1;32m    949\u001b[0m \u001b[0;34m\u001b[0m\u001b[0m\n",
      "\u001b[0;31mAttributeError\u001b[0m: 'CNN_Trainer' object has no attribute '__model'"
     ]
    }
   ],
   "source": []
  },
  {
   "cell_type": "code",
   "execution_count": 7,
   "id": "surface-spotlight",
   "metadata": {},
   "outputs": [],
   "source": [
    "net = resnet.ResNet18(num_classes=10)"
   ]
  },
  {
   "cell_type": "code",
   "execution_count": 9,
   "id": "selected-indonesia",
   "metadata": {},
   "outputs": [],
   "source": [
    "def count_parameters(model):\n",
    "    return sum(p.numel() for p in model.parameters() if p.requires_grad)"
   ]
  },
  {
   "cell_type": "code",
   "execution_count": 10,
   "id": "listed-washington",
   "metadata": {},
   "outputs": [
    {
     "data": {
      "text/plain": [
       "11173962"
      ]
     },
     "execution_count": 10,
     "metadata": {},
     "output_type": "execute_result"
    }
   ],
   "source": [
    "count_parameters(net)"
   ]
  },
  {
   "cell_type": "code",
   "execution_count": 12,
   "id": "stable-israeli",
   "metadata": {},
   "outputs": [],
   "source": [
    "from vit import ViT\n"
   ]
  },
  {
   "cell_type": "code",
   "execution_count": 39,
   "id": "meaningful-desktop",
   "metadata": {},
   "outputs": [],
   "source": [
    "transformer =  ViT(\n",
    "                            dim=512,\n",
    "                            image_size=32,\n",
    "                            patch_size=4,\n",
    "                            num_classes=10,\n",
    "                            channels=3,\n",
    "                            depth = 8,\n",
    "                            heads=8, \n",
    "                            mlp_dim=512,\n",
    "                            dropout=0\n",
    "                        )"
   ]
  },
  {
   "cell_type": "code",
   "execution_count": 41,
   "id": "blessed-fifteen",
   "metadata": {},
   "outputs": [
    {
     "data": {
      "text/plain": [
       "1.1344783524411484"
      ]
     },
     "execution_count": 41,
     "metadata": {},
     "output_type": "execute_result"
    }
   ],
   "source": [
    "count_parameters(transformer)/count_parameters(net)"
   ]
  },
  {
   "cell_type": "markdown",
   "id": "leading-retrieval",
   "metadata": {},
   "source": [
    "This looks like an appropriate enough ratio, let's work with this. "
   ]
  },
  {
   "cell_type": "code",
   "execution_count": null,
   "id": "treated-structure",
   "metadata": {},
   "outputs": [],
   "source": []
  },
  {
   "cell_type": "code",
   "execution_count": null,
   "id": "introductory-microwave",
   "metadata": {},
   "outputs": [],
   "source": [
    "        # architecture specific arguments\n",
    "        parser.add_argument('--channels', type=int, default=3) \n",
    "        parser.add_argument('--image_size', type=int, default=32)  \n",
    "        parser.add_argument('--patch_size', type=int, default=4)  # not really specified\n",
    "        parser.add_argument('--depth', type=int, default=12)  # 12, 24, 32\n",
    "        parser.add_argument('--heads', type=int, default=12)  # 12, 16, 16\n",
    "        parser.add_argument('--dim', type=int, default=768)  # 768, 1024, 1280\n",
    "        parser.add_argument('--mlp_dim', type=int, default=3072) # 3072, 4096, 5120\n",
    "        parser.add_argument('--dropout', type=float, default=0)  # 0 or .1\n",
    "        parser.add_argument('--num_classes', type=int, default=100) \n",
    "\n",
    "        # setup arguments\n",
    "        parser.add_argument('--batch_size', type=int, default=128)  # 4096 \n",
    "        parser.add_argument('--learning_rate', type=int, default=1e-4) # .9, .999 (Adam)\n",
    "        parser.add_argument('--weight_decay', type=int, default=.001) # .1\n",
    "        parser.add_argument('--seed', type=int, default = 42) # shuffling samples in data loader \n",
    "        parser.add_argument('--dataset',type=str, default = 'cifar100') # which data set to train with. \n",
    "\n",
    "        return parser\n",
    "\n"
   ]
  }
 ],
 "metadata": {
  "kernelspec": {
   "display_name": "Python 3",
   "language": "python",
   "name": "python3"
  },
  "language_info": {
   "codemirror_mode": {
    "name": "ipython",
    "version": 3
   },
   "file_extension": ".py",
   "mimetype": "text/x-python",
   "name": "python",
   "nbconvert_exporter": "python",
   "pygments_lexer": "ipython3",
   "version": "3.8.5"
  }
 },
 "nbformat": 4,
 "nbformat_minor": 5
}
